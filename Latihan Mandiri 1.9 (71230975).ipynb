{
 "cells": [
  {
   "cell_type": "code",
   "execution_count": null,
   "id": "095173ad",
   "metadata": {},
   "outputs": [],
   "source": [
    "Inputan1 = input('Masukkan nama file dengan format txt: ')\n",
    "Inputan2 = input('Masukkan nama file dengan format txt: ')\n",
    "with open(Inputan1,'r+') as Teks1, open(Inputan2,'r+') as Text2:\n",
    "    baca1 = Teks1.readlines()\n",
    "    baca2 = Text2.readlines()\n",
    "    if baca1 == baca2:\n",
    "        print (\"Baris dalam File Sama\")\n",
    "    else:\n",
    "        panjang1 = len(baca1)\n",
    "        panjang2 = len(baca2)\n",
    "        if panjang1 == panjang2:\n",
    "            for i in range (0,panjang1):\n",
    "                baris1 = baca1[i]\n",
    "                baris2 = baca2[i]\n",
    "                if baca1[i] == baca2[i]:\n",
    "                    print (f\"Baris ke {i+1} sama\\n\")\n",
    "                else:\n",
    "                    print (f\"Baris ke {i+1} beda\")\n",
    "                    print (f\"Teks 1 :\\n{baca1[i].strip()}\")\n",
    "                    print (f\"Teks 2 :\\n{baca2[i].strip()}\\n\")"
   ]
  },
  {
   "cell_type": "code",
   "execution_count": null,
   "id": "c1ab6d17",
   "metadata": {},
   "outputs": [],
   "source": [
    "Awal = open(\"teks soal.txt\",\"r\")\n",
    "Membaca= Awal.readlines()\n",
    "for i in range (len(Membaca)):\n",
    "    try:\n",
    "        Pembacaan = Membaca[i].strip().split(\"||\")\n",
    "        Soal = Pembacaan[0].capitalize().strip()\n",
    "        Jawaban = Pembacaan[1].lower().strip()\n",
    "        print (Soal)\n",
    "        Jawaban1 = input(\"Jawab: \").lower().strip()\n",
    "        if Jawaban1 == Jawaban:\n",
    "            print (\"Jawaban benar!\")\n",
    "        else:\n",
    "            print (\"Jawaban salah!\")\n",
    "    except:\n",
    "        break"
   ]
  }
 ],
 "metadata": {
  "kernelspec": {
   "display_name": "Python 3 (ipykernel)",
   "language": "python",
   "name": "python3"
  },
  "language_info": {
   "codemirror_mode": {
    "name": "ipython",
    "version": 3
   },
   "file_extension": ".py",
   "mimetype": "text/x-python",
   "name": "python",
   "nbconvert_exporter": "python",
   "pygments_lexer": "ipython3",
   "version": "3.11.5"
  }
 },
 "nbformat": 4,
 "nbformat_minor": 5
}
